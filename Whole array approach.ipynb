{
 "cells": [
  {
   "cell_type": "code",
   "execution_count": 1,
   "metadata": {},
   "outputs": [],
   "source": [
    "%matplotlib inline\n",
    "import numpy as np\n",
    "import xarray as xr\n",
    "import matplotlib.pyplot as plt"
   ]
  },
  {
   "cell_type": "code",
   "execution_count": 2,
   "metadata": {},
   "outputs": [
    {
     "name": "stderr",
     "output_type": "stream",
     "text": [
      "/g/data3/hh5/public/apps/miniconda3/envs/analysis3-19.04/lib/python3.6/site-packages/xarray/core/options.py:50: FutureWarning: The enable_cftimeindex option is now a no-op and will be removed in a future version of xarray.\n",
      "  FutureWarning)\n"
     ]
    }
   ],
   "source": [
    "from seas_flash_drougth_count_CMS import *"
   ]
  },
  {
   "cell_type": "code",
   "execution_count": 3,
   "metadata": {},
   "outputs": [
    {
     "data": {
      "text/plain": [
       "<xarray.DataArray 'mrsos' (time: 52925, lat: 18, lon: 21)>\n",
       "[20005650 values with dtype=float32]\n",
       "Coordinates:\n",
       "  * time     (time) object 1861-01-01 12:00:00 ... 2005-12-31 12:00:00\n",
       "  * lon      (lon) float64 101.2 104.1 106.9 109.7 ... 149.1 151.9 154.7 157.5\n",
       "  * lat      (lat) float64 -60.0 -57.21 -54.42 -51.63 ... -18.14 -15.35 -12.56\n",
       "    depth    float64 ...\n",
       "Attributes:\n",
       "    standard_name:     moisture_content_of_soil_layer\n",
       "    long_name:         Moisture in Upper Portion of Soil Column\n",
       "    units:             kg m-2\n",
       "    comment:           the mass of water in all phases in a thin surface soil...\n",
       "    original_name:     WGFL\n",
       "    cell_methods:      time: mean (interval: 15 minutes) area: mean where land\n",
       "    cell_measures:     area: areacella\n",
       "    history:           2011-04-13T22:40:08Z altered by CMOR: Treated scalar d...\n",
       "    associated_files:  baseURL: http://cmip-pcmdi.llnl.gov/CMIP5/dataLocation..."
      ]
     },
     "execution_count": 3,
     "metadata": {},
     "output_type": "execute_result"
    }
   ],
   "source": [
    "filename = 'mrsos_day_CanESM2_historical_r1i1p1_18610101-20051231.nc'     \n",
    "ds = xr.open_dataset(filename).sel(lat=slice(-60,-10),lon=slice(100,160))#.sel(time=slice('1861-01','1880-12'))\n",
    "# ds = xr.open_dataset(filename, chunks={'lat':10,'lon':10})#.sel(time=slice('1861-01','1880-12'))\n",
    "ds.mrsos"
   ]
  },
  {
   "cell_type": "code",
   "execution_count": 4,
   "metadata": {},
   "outputs": [],
   "source": [
    "# Create a stacked (2D) version of the dataset, which creates a new axis call all,\n",
    "# which is a combination of the lat and lon axes\n",
    "mrsos_stack= ds.mrsos.stack(latlon=('lat','lon'))"
   ]
  },
  {
   "cell_type": "code",
   "execution_count": 5,
   "metadata": {},
   "outputs": [],
   "source": [
    "mrsos_max = mrsos_stack.max(dim='time')"
   ]
  },
  {
   "cell_type": "code",
   "execution_count": 6,
   "metadata": {},
   "outputs": [],
   "source": [
    "mrsos_min = mrsos_stack.min(dim='time')"
   ]
  },
  {
   "cell_type": "code",
   "execution_count": 7,
   "metadata": {},
   "outputs": [
    {
     "name": "stdout",
     "output_type": "stream",
     "text": [
      "CPU times: user 63 ms, sys: 44 ms, total: 107 ms\n",
      "Wall time: 104 ms\n"
     ]
    }
   ],
   "source": [
    "%time mrsos_masked = mrsos_stack.where(mrsos_max != mrsos_min, drop=True)"
   ]
  },
  {
   "cell_type": "code",
   "execution_count": 8,
   "metadata": {},
   "outputs": [
    {
     "data": {
      "text/plain": [
       "<xarray.DataArray 'mrsos' (time: 52925, latlon: 91)>\n",
       "array([[12.740191,  8.492062,  5.742531, ...,  7.866596,  9.260251, 12.316218],\n",
       "       [12.547095,  8.194021,  5.671169, ..., 11.02191 , 14.055489, 12.5373  ],\n",
       "       [11.927226,  7.785439,  5.539639, ..., 10.604933, 15.492521, 13.984127],\n",
       "       ...,\n",
       "       [ 6.225273,  4.460816,  4.884789, ...,  6.882922,  8.373125,  5.110069],\n",
       "       [ 6.503725,  4.548969,  5.255591, ...,  6.440758, 10.097004,  6.667437],\n",
       "       [ 6.349807,  4.518186,  5.100275, ...,  6.071355, 10.719671,  6.647848]],\n",
       "      dtype=float32)\n",
       "Coordinates:\n",
       "  * time     (time) object 1861-01-01 12:00:00 ... 2005-12-31 12:00:00\n",
       "    depth    float64 0.05\n",
       "  * latlon   (latlon) MultiIndex\n",
       "  - lat      (latlon) float64 -40.46 -37.67 -37.67 -37.67 ... -29.3 -29.3 -29.3\n",
       "  - lon      (latlon) float64 146.2 140.6 143.4 146.2 ... 129.4 132.2 135.0\n",
       "Attributes:\n",
       "    standard_name:     moisture_content_of_soil_layer\n",
       "    long_name:         Moisture in Upper Portion of Soil Column\n",
       "    units:             kg m-2\n",
       "    comment:           the mass of water in all phases in a thin surface soil...\n",
       "    original_name:     WGFL\n",
       "    cell_methods:      time: mean (interval: 15 minutes) area: mean where land\n",
       "    cell_measures:     area: areacella\n",
       "    history:           2011-04-13T22:40:08Z altered by CMOR: Treated scalar d...\n",
       "    associated_files:  baseURL: http://cmip-pcmdi.llnl.gov/CMIP5/dataLocation..."
      ]
     },
     "execution_count": 8,
     "metadata": {},
     "output_type": "execute_result"
    }
   ],
   "source": [
    "mrsos_masked"
   ]
  },
  {
   "cell_type": "code",
   "execution_count": 9,
   "metadata": {},
   "outputs": [
    {
     "name": "stdout",
     "output_type": "stream",
     "text": [
      "CPU times: user 119 ms, sys: 4 ms, total: 123 ms\n",
      "Wall time: 120 ms\n"
     ]
    },
    {
     "data": {
      "text/plain": [
       "<xarray.DataArray 'percentiles' (quantile: 3, latlon: 91)>\n",
       "array([[ 8.594208,  5.976206,  6.023781, ...,  4.099809,  4.099809,  4.099809],\n",
       "       [13.321162,  9.005588,  9.48721 , ...,  4.105406,  4.106805,  4.238335],\n",
       "       [16.307726, 11.09607 , 11.992991, ...,  4.189361,  4.423037,  4.495798]])\n",
       "Coordinates:\n",
       "  * latlon    (latlon) MultiIndex\n",
       "  - lat       (latlon) float64 -40.46 -37.67 -37.67 -37.67 ... -29.3 -29.3 -29.3\n",
       "  - lon       (latlon) float64 146.2 140.6 143.4 146.2 ... 129.4 132.2 135.0\n",
       "  * quantile  (quantile) float64 0.1 0.3 0.4"
      ]
     },
     "execution_count": 9,
     "metadata": {},
     "output_type": "execute_result"
    }
   ],
   "source": [
    "%time percentiles = mrsos_masked.load().quantile([0.1,0.3,0.4],dim='time').rename('percentiles')\n",
    "percentiles"
   ]
  },
  {
   "cell_type": "code",
   "execution_count": 10,
   "metadata": {},
   "outputs": [
    {
     "data": {
      "text/plain": [
       "(52925, 91)"
      ]
     },
     "execution_count": 10,
     "metadata": {},
     "output_type": "execute_result"
    }
   ],
   "source": [
    "indices = np.reshape(np.tile(np.arange(mrsos_masked.shape[0]),mrsos_masked.shape[1]),mrsos_masked.shape,order='F')\n",
    "indices.shape"
   ]
  },
  {
   "cell_type": "code",
   "execution_count": 11,
   "metadata": {},
   "outputs": [
    {
     "name": "stdout",
     "output_type": "stream",
     "text": [
      "CPU times: user 499 ms, sys: 86 ms, total: 585 ms\n",
      "Wall time: 581 ms\n"
     ]
    }
   ],
   "source": [
    "%time moist_index = mrsos_masked.copy(data=indices)\\\n",
    "                          .where(mrsos_masked >= percentiles[1], drop=True)\\\n",
    "                          .bfill('time')"
   ]
  },
  {
   "cell_type": "code",
   "execution_count": 12,
   "metadata": {},
   "outputs": [],
   "source": [
    "moist_index = (moist_index - indices).shift(time=-1)"
   ]
  },
  {
   "cell_type": "code",
   "execution_count": 13,
   "metadata": {},
   "outputs": [
    {
     "data": {
      "text/plain": [
       "[<matplotlib.lines.Line2D at 0x7fe5d9b4f3c8>]"
      ]
     },
     "execution_count": 13,
     "metadata": {},
     "output_type": "execute_result"
    },
    {
     "data": {
      "image/png": "[encoded data removed]",
      "text/plain": [
       "<Figure size 1188x792 with 1 Axes>"
      ]
     },
     "metadata": {
      "needs_background": "light"
     },
     "output_type": "display_data"
    }
   ],
   "source": [
    "moist_index.where(moist_index > 0)[2600:2700,30].plot(size=11)"
   ]
  },
  {
   "cell_type": "code",
   "execution_count": 14,
   "metadata": {},
   "outputs": [],
   "source": [
    "dt=14"
   ]
  },
  {
   "cell_type": "markdown",
   "metadata": {},
   "source": [
    "Drought count calculates a rolling sum of window dt of how many locations in each window satisfy the drought criteria. This shifted backwards by dt-1 so that at a given point i drought_count > 1 signifies that there was a drought within dt of i"
   ]
  },
  {
   "cell_type": "code",
   "execution_count": 15,
   "metadata": {},
   "outputs": [
    {
     "name": "stdout",
     "output_type": "stream",
     "text": [
      "CPU times: user 1.83 s, sys: 50 ms, total: 1.88 s\n",
      "Wall time: 1.87 s\n"
     ]
    },
    {
     "name": "stderr",
     "output_type": "stream",
     "text": [
      "/g/data3/hh5/public/apps/miniconda3/envs/analysis3-19.04/lib/python3.6/site-packages/bottleneck/slow/move.py:149: FutureWarning: Using a non-tuple sequence for multidimensional indexing is deprecated; use `arr[tuple(seq)]` instead of `arr[seq]`. In the future this will be interpreted as an array index, `arr[np.array(seq)]`, which will result either in an error or a different result.\n",
      "  nidx1 = n[idx1]\n",
      "/g/data3/hh5/public/apps/miniconda3/envs/analysis3-19.04/lib/python3.6/site-packages/bottleneck/slow/move.py:150: FutureWarning: Using a non-tuple sequence for multidimensional indexing is deprecated; use `arr[tuple(seq)]` instead of `arr[seq]`. In the future this will be interpreted as an array index, `arr[np.array(seq)]`, which will result either in an error or a different result.\n",
      "  nidx1 = nidx1 - n[idx2]\n",
      "/g/data3/hh5/public/apps/miniconda3/envs/analysis3-19.04/lib/python3.6/site-packages/bottleneck/slow/move.py:152: FutureWarning: Using a non-tuple sequence for multidimensional indexing is deprecated; use `arr[tuple(seq)]` instead of `arr[seq]`. In the future this will be interpreted as an array index, `arr[np.array(seq)]`, which will result either in an error or a different result.\n",
      "  idx[idx1] = nidx1 < min_count\n",
      "/g/data3/hh5/public/apps/miniconda3/envs/analysis3-19.04/lib/python3.6/site-packages/bottleneck/slow/move.py:153: FutureWarning: Using a non-tuple sequence for multidimensional indexing is deprecated; use `arr[tuple(seq)]` instead of `arr[seq]`. In the future this will be interpreted as an array index, `arr[np.array(seq)]`, which will result either in an error or a different result.\n",
      "  idx[idx3] = n[idx3] < min_count\n"
     ]
    }
   ],
   "source": [
    "%time drought_count = (mrsos_masked<percentiles.values[0]).rolling(time=dt).sum().shift(time=dt-1)\n",
    "# drought_count[2600:2700].plot(size=8)"
   ]
  },
  {
   "cell_type": "code",
   "execution_count": 16,
   "metadata": {},
   "outputs": [
    {
     "data": {
      "text/plain": [
       "<xarray.DataArray (time: 52925, latlon: 91)>\n",
       "array([[nan, nan, nan, ..., nan, nan, nan],\n",
       "       [nan, nan, nan, ..., nan, nan, nan],\n",
       "       [nan, nan, nan, ..., nan, nan, nan],\n",
       "       ...,\n",
       "       [14., 14., 14., ...,  0.,  0.,  0.],\n",
       "       [14., 14., 14., ...,  0.,  0.,  0.],\n",
       "       [14., 14., 14., ...,  0.,  0.,  0.]])\n",
       "Coordinates:\n",
       "  * time     (time) object 1861-01-01 12:00:00 ... 2005-12-31 12:00:00\n",
       "    depth    float64 0.05\n",
       "  * latlon   (latlon) MultiIndex\n",
       "  - lat      (latlon) float64 -40.46 -37.67 -37.67 -37.67 ... -29.3 -29.3 -29.3\n",
       "  - lon      (latlon) float64 146.2 140.6 143.4 146.2 ... 129.4 132.2 135.0"
      ]
     },
     "execution_count": 16,
     "metadata": {},
     "output_type": "execute_result"
    }
   ],
   "source": [
    "drought_count"
   ]
  },
  {
   "cell_type": "code",
   "execution_count": 17,
   "metadata": {},
   "outputs": [
    {
     "data": {
      "text/plain": [
       "<matplotlib.collections.QuadMesh at 0x7fe5d99ea550>"
      ]
     },
     "execution_count": 17,
     "metadata": {},
     "output_type": "execute_result"
    },
    {
     "data": {
      "image/png": "[encoded data removed]",
      "text/plain": [
       "<Figure size 864x576 with 2 Axes>"
      ]
     },
     "metadata": {
      "needs_background": "light"
     },
     "output_type": "display_data"
    }
   ],
   "source": [
    "drought_count[2600,:].unstack().reindex(lon=sorted(drought_count.lon.values)).plot(size=8)"
   ]
  },
  {
   "cell_type": "code",
   "execution_count": 24,
   "metadata": {},
   "outputs": [
    {
     "name": "stdout",
     "output_type": "stream",
     "text": [
      "CPU times: user 90 ms, sys: 19 ms, total: 109 ms\n",
      "Wall time: 107 ms\n"
     ]
    }
   ],
   "source": [
    "%time result = moist_index.where(mrsos_masked>=percentiles.values[1]).where(drought_count>0).compute()"
   ]
  },
  {
   "cell_type": "code",
   "execution_count": 25,
   "metadata": {},
   "outputs": [
    {
     "data": {
      "text/plain": [
       "<xarray.DataArray 'mrsos' (time: 52925, latlon: 91)>\n",
       "array([[nan, nan, nan, ..., nan, nan, nan],\n",
       "       [nan, nan, nan, ..., nan, nan, nan],\n",
       "       [nan, nan, nan, ..., nan, nan, nan],\n",
       "       ...,\n",
       "       [nan, nan, nan, ..., nan, nan, nan],\n",
       "       [nan, nan, nan, ..., nan, nan, nan],\n",
       "       [nan, nan, nan, ..., nan, nan, nan]])\n",
       "Coordinates:\n",
       "  * time      (time) object 1861-01-01 12:00:00 ... 2005-12-31 12:00:00\n",
       "    depth     float64 0.05\n",
       "  * latlon    (latlon) MultiIndex\n",
       "  - lat       (latlon) float64 -40.46 -37.67 -37.67 -37.67 ... -29.3 -29.3 -29.3\n",
       "  - lon       (latlon) float64 146.2 140.6 143.4 146.2 ... 129.4 132.2 135.0\n",
       "    quantile  float64 0.3\n",
       "Attributes:\n",
       "    standard_name:     moisture_content_of_soil_layer\n",
       "    long_name:         Moisture in Upper Portion of Soil Column\n",
       "    units:             kg m-2\n",
       "    comment:           the mass of water in all phases in a thin surface soil...\n",
       "    original_name:     WGFL\n",
       "    cell_methods:      time: mean (interval: 15 minutes) area: mean where land\n",
       "    cell_measures:     area: areacella\n",
       "    history:           2011-04-13T22:40:08Z altered by CMOR: Treated scalar d...\n",
       "    associated_files:  baseURL: http://cmip-pcmdi.llnl.gov/CMIP5/dataLocation..."
      ]
     },
     "execution_count": 25,
     "metadata": {},
     "output_type": "execute_result"
    }
   ],
   "source": [
    "# result = result.chunk({'latlon':20})\n",
    "result"
   ]
  },
  {
   "cell_type": "code",
   "execution_count": 26,
   "metadata": {},
   "outputs": [],
   "source": [
    "result = result.unstack().reindex(lon=sorted(result.lon.values)).compute()"
   ]
  },
  {
   "cell_type": "code",
   "execution_count": 27,
   "metadata": {},
   "outputs": [
    {
     "data": {
      "text/plain": [
       "<matplotlib.collections.QuadMesh at 0x7fe5d9795c18>"
      ]
     },
     "execution_count": 27,
     "metadata": {},
     "output_type": "execute_result"
    },
    {
     "data": {
      "image/png": "[encoded data removed]",
      "text/plain": [
       "<Figure size 432x288 with 2 Axes>"
      ]
     },
     "metadata": {
      "needs_background": "light"
     },
     "output_type": "display_data"
    }
   ],
   "source": [
    "result[100,:].plot()"
   ]
  },
  {
   "cell_type": "code",
   "execution_count": 28,
   "metadata": {},
   "outputs": [
    {
     "name": "stderr",
     "output_type": "stream",
     "text": [
      "/g/data3/hh5/public/apps/miniconda3/envs/analysis3-19.04/lib/python3.6/site-packages/xarray/core/nanops.py:159: RuntimeWarning: Mean of empty slice\n",
      "  return np.nanmean(a, axis=axis, dtype=dtype)\n"
     ]
    }
   ],
   "source": [
    "result.groupby('time.season').mean(dim='time').to_netcdf('result.nc')"
   ]
  },
  {
   "cell_type": "code",
   "execution_count": null,
   "metadata": {},
   "outputs": [],
   "source": []
  }
 ],
 "metadata": {
  "kernelspec": {
   "display_name": "Python [conda env:analysis3-19.04]",
   "language": "python",
   "name": "conda-env-analysis3-19.04-py"
  },
  "language_info": {
   "codemirror_mode": {
    "name": "ipython",
    "version": 3
   },
   "file_extension": ".py",
   "mimetype": "text/x-python",
   "name": "python",
   "nbconvert_exporter": "python",
   "pygments_lexer": "ipython3",
   "version": "3.6.7"
  }
 },
 "nbformat": 4,
 "nbformat_minor": 2
}
